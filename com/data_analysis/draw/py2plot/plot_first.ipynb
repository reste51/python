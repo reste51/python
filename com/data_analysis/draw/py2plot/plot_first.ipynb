{
 "cells": [
  {
   "cell_type": "code",
   "execution_count": 6,
   "metadata": {
    "collapsed": true
   },
   "outputs": [
    {
     "data": {
      "text/plain": [
       "'./page/line1.html'"
      ]
     },
     "execution_count": 6,
     "metadata": {},
     "output_type": "execute_result"
    }
   ],
   "source": [
    "import pyg2plot as Plot\n",
    "import os\n",
    "os.chdir('E:/excise/python/new_project01/com/data_analysis/draw/py2plot')\n",
    "\n",
    "data = [\n",
    "  { \"year\": '1991', \"value\": 3 },\n",
    "  { \"year\": '1992', \"value\": 4 },\n",
    "  { \"year\": '1993', \"value\": 3.5 },\n",
    "  { \"year\": '1994', \"value\": 5 },\n",
    "  { \"year\": '1995', \"value\": 4.9 },\n",
    "  { \"year\": '1996', \"value\": 6 },\n",
    "  { \"year\": '1997', \"value\": 7 },\n",
    "  { \"year\": '1998', \"value\": 9 },\n",
    "  { \"year\": '1999', \"value\": 13 },\n",
    "]\n",
    "\n",
    "line = Plot.Plot('Line')\n",
    "line.set_options({\n",
    "  \"appendPadding\": 32,\n",
    "  \"data\": data,\n",
    "  \"xField\": \"year\",\n",
    "  \"yField\": \"value\",\n",
    "  \"label\": {},\n",
    "  \"smooth\": True,\n",
    "  \"lineStyle\": {\n",
    "    \"lineWidth\": 3,\n",
    "  },\n",
    "  \"point\": {\n",
    "    \"size\": 5,\n",
    "    \"shape\": 'diamond',\n",
    "    \"style\": {\n",
    "      \"fill\": \"white\",\n",
    "      \"stroke\": \"#5B8FF9\",\n",
    "      \"lineWidth\": 2,\n",
    "    }\n",
    "  }\n",
    "})\n",
    "line.render('./page/line1.html')\n"
   ]
  },
  {
   "cell_type": "code",
   "execution_count": 8,
   "metadata": {},
   "outputs": [
    {
     "data": {
      "text/plain": [
       "'./page/column.html'"
      ]
     },
     "execution_count": 8,
     "metadata": {},
     "output_type": "execute_result"
    }
   ],
   "source": [
    "data = [\n",
    "  { \"city\": \"石家庄\", \"type\": \"水果\", \"value\": 14500 },\n",
    "  { \"city\": \"石家庄\", \"type\": \"米面\", \"value\": 8500 },\n",
    "  { \"city\": \"石家庄\", \"type\": \"特产零食\", \"value\": 10000 },\n",
    "  { \"city\": \"石家庄\", \"type\": \"茶叶\", \"value\": 7000 },\n",
    "  { \"city\": \"深圳\", \"type\": \"水果\", \"value\": 9000 },\n",
    "  { \"city\": \"深圳\", \"type\": \"米面\", \"value\": 8500 },\n",
    "  { \"city\": \"深圳\", \"type\": \"特产零食\", \"value\": 11000 },\n",
    "  { \"city\": \"深圳\", \"type\": \"茶叶\", \"value\": 6000 },\n",
    "  { \"city\": \"温州\", \"type\": \"水果\", \"value\": 16000 },\n",
    "  { \"city\": \"温州\", \"type\": \"米面\", \"value\": 5000 },\n",
    "  { \"city\": \"温州\", \"type\": \"特产零食\", \"value\": 6000 },\n",
    "  { \"city\": \"温州\", \"type\": \"茶叶\", \"value\": 10000 },\n",
    "  { \"city\": \"宁波\", \"type\": \"水果\", \"value\": 14000 },\n",
    "  { \"city\": \"宁波\", \"type\": \"米面\", \"value\": 9000 },\n",
    "  { \"city\": \"宁波\", \"type\": \"特产零食\", \"value\": 10000 },\n",
    "  { \"city\": \"宁波\", \"type\": \"茶叶\", \"value\": 9000 },\n",
    "  { \"city\": \"无锡\", \"type\": \"水果\", \"value\": 14000 },\n",
    "  { \"city\": \"无锡\", \"type\": \"米面\", \"value\": 9000 },\n",
    "  { \"city\": \"无锡\", \"type\": \"特产零食\", \"value\": 10000 },\n",
    "  { \"city\": \"无锡\", \"type\": \"茶叶\", \"value\": 6000 },\n",
    "  { \"city\": \"杭州\", \"type\": \"水果\", \"value\": 9000 },\n",
    "  { \"city\": \"杭州\", \"type\": \"米面\", \"value\": 8500 },\n",
    "  { \"city\": \"杭州\", \"type\": \"特产零食\", \"value\": 10000 },\n",
    "  { \"city\": \"杭州\", \"type\": \"茶叶\", \"value\": 6000 },\n",
    "  { \"city\": \"北京\", \"type\": \"水果\", \"value\": 17000 },\n",
    "  { \"city\": \"北京\", \"type\": \"米面\", \"value\": 6000 },\n",
    "  { \"city\": \"北京\", \"type\": \"特产零食\", \"value\": 7000 },\n",
    "  { \"city\": \"北京\", \"type\": \"茶叶\", \"value\": 10000 },\n",
    "  { \"city\": \"上海\", \"type\": \"水果\", \"value\": 18000 },\n",
    "  { \"city\": \"上海\", \"type\": \"米面\", \"value\": 11000 },\n",
    "  { \"city\": \"上海\", \"type\": \"特产零食\", \"value\": 15000 },\n",
    "  { \"city\": \"上海\", \"type\": \"茶叶\", \"value\": 14000 }\n",
    "]\n",
    "\n",
    "column = Plot.Plot('Column')\n",
    "\n",
    "column.set_options({\n",
    "  \"appendPadding\": 32,\n",
    "  \"data\": data,\n",
    "  \"xField\": \"city\",\n",
    "  \"yField\": \"value\",\n",
    "  \"seriesField\": \"type\",\n",
    "  \"isGroup\": True,\n",
    "  \"columnStyle\": {\n",
    "    \"radius\": [20, 20, 0, 0],\n",
    "  },\n",
    "  \"legend\": {\n",
    "    \"position\": \"top\"\n",
    "  }\n",
    "})\n",
    "\n",
    "column.render('./page/column.html')"
   ]
  },
  {
   "cell_type": "code",
   "execution_count": 9,
   "metadata": {},
   "outputs": [
    {
     "data": {
      "text/plain": [
       "'./page/scatter.html'"
      ]
     },
     "execution_count": 9,
     "metadata": {},
     "output_type": "execute_result"
    }
   ],
   "source": [
    "data = [\n",
    "  { \"x\": 42, \"y\": 38, \"size\": 20, \"genre\": \"female\" },\n",
    "  { \"x\": 6, \"y\": 18, \"size\": 1, \"genre\": \"female\" },\n",
    "  { \"x\": 1, \"y\": 93, \"size\": 55, \"genre\": \"female\" },\n",
    "  { \"x\": 57, \"y\": 2, \"size\": 90, \"genre\": \"female\" },\n",
    "  { \"x\": 80, \"y\": 76, \"size\": 22, \"genre\": \"female\" },\n",
    "  { \"x\": 11, \"y\": 74, \"size\": 96, \"genre\": \"female\" },\n",
    "  { \"x\": 88, \"y\": 56, \"size\": 10, \"genre\": \"female\" },\n",
    "  { \"x\": 30, \"y\": 47, \"size\": 49, \"genre\": \"female\" },\n",
    "  { \"x\": 57, \"y\": 62, \"size\": 98, \"genre\": \"female\" },\n",
    "  { \"x\": 4, \"y\": 16, \"size\": 16, \"genre\": \"female\" },\n",
    "  { \"x\": 46, \"y\": 10, \"size\": 11, \"genre\": \"female\" },\n",
    "  { \"x\": 22, \"y\": 87, \"size\": 89, \"genre\": \"female\" },\n",
    "  { \"x\": 57, \"y\": 91, \"size\": 82, \"genre\": \"female\" },\n",
    "  { \"x\": 45, \"y\": 15, \"size\": 98, \"genre\": \"female\" },\n",
    "  { \"x\": 9, \"y\": 81, \"size\": 63, \"genre\": \"male\" },\n",
    "  { \"x\": 98, \"y\": 5, \"size\": 89, \"genre\": \"male\" },\n",
    "  { \"x\": 51, \"y\": 50, \"size\": 73, \"genre\": \"male\" },\n",
    "  { \"x\": 41, \"y\": 22, \"size\": 14, \"genre\": \"male\" },\n",
    "  { \"x\": 58, \"y\": 24, \"size\": 20, \"genre\": \"male\" },\n",
    "  { \"x\": 78, \"y\": 37, \"size\": 34, \"genre\": \"male\" },\n",
    "  { \"x\": 55, \"y\": 56, \"size\": 53, \"genre\": \"male\" },\n",
    "  { \"x\": 18, \"y\": 45, \"size\": 70, \"genre\": \"male\" },\n",
    "  { \"x\": 42, \"y\": 44, \"size\": 28, \"genre\": \"male\" },\n",
    "  { \"x\": 3, \"y\": 52, \"size\": 59, \"genre\": \"male\" },\n",
    "  { \"x\": 31, \"y\": 18, \"size\": 97, \"genre\": \"male\" },\n",
    "  { \"x\": 79, \"y\": 91, \"size\": 63, \"genre\": \"male\" },\n",
    "  { \"x\": 93, \"y\": 23, \"size\": 23, \"genre\": \"male\" },\n",
    "  { \"x\": 44, \"y\": 83, \"size\": 22, \"genre\": \"male\" }\n",
    "]\n",
    "\n",
    "scatter = Plot.Plot(\"Scatter\")\n",
    "\n",
    "scatter.set_options({\n",
    "  \"appendPadding\": 32,\n",
    "  \"data\": data,\n",
    "  \"xField\": \"x\",\n",
    "  \"yField\": \"y\",\n",
    "  \"colorField\": \"genre\",\n",
    "  \"color\": [\n",
    "    \"r(0.4, 0.3, 0.7) 0:rgba(255,255,255,0.5) 1:#5B8FF9\",\n",
    "    \"r(0.4, 0.4, 0.7) 0:rgba(255,255,255,0.5) 1:#61DDAA\",\n",
    "  ],\n",
    "  \"sizeField\": \"size\",\n",
    "  \"size\": [5, 20],\n",
    "  \"shape\": \"circle\",\n",
    "  \"yAxis\": {\n",
    "    \"nice\": True,\n",
    "    \"line\": {\n",
    "      \"style\": {\n",
    "        \"stroke\": \"#eee\",\n",
    "      },\n",
    "    },\n",
    "  },\n",
    "  \"xAxis\": {\n",
    "    \"grid\": {\n",
    "      \"line\": {\n",
    "        \"style\": {\n",
    "          \"stroke\": \"#eee\",\n",
    "        },\n",
    "      },\n",
    "    },\n",
    "    \"line\": {\n",
    "      \"style\": {\n",
    "        \"stroke\": \"#eee\",\n",
    "      },\n",
    "    },\n",
    "  },\n",
    "})\n",
    "\n",
    "scatter.render(\"./page/scatter.html\")"
   ]
  },
  {
   "cell_type": "code",
   "execution_count": null,
   "metadata": {},
   "outputs": [],
   "source": []
  }
 ],
 "metadata": {
  "kernelspec": {
   "display_name": "Python 2",
   "language": "python",
   "name": "python2"
  },
  "language_info": {
   "codemirror_mode": {
    "name": "ipython",
    "version": 2
   },
   "file_extension": ".py",
   "mimetype": "text/x-python",
   "name": "python",
   "nbconvert_exporter": "python",
   "pygments_lexer": "ipython2",
   "version": "2.7.6"
  }
 },
 "nbformat": 4,
 "nbformat_minor": 0
}
