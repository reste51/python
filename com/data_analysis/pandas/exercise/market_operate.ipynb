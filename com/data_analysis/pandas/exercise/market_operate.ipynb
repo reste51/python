{
 "cells": [
  {
   "cell_type": "code",
   "execution_count": 4,
   "metadata": {
    "collapsed": true
   },
   "outputs": [],
   "source": [
    "import  pandas as pd\n",
    "import numpy as np\n",
    "import os\n",
    "\n",
    "os.chdir('E:/excise/python/new_project01/com/data_analysis/pandas/excise')"
   ]
  },
  {
   "cell_type": "code",
   "execution_count": 10,
   "metadata": {
    "collapsed": true
   },
   "outputs": [
    {
     "name": "stdout",
     "output_type": "stream",
     "text": [
      "      Age  Gender OwnHome  Married Location  Salary  Children History  \\\n0     Old  Female     Own   Single      Far   47500         0    High   \n1  Middle    Male    Rent   Single    Close   63600         0    High   \n2   Young  Female    Rent   Single    Close   13500         0     Low   \n3  Middle    Male     Own  Married    Close   85600         1    High   \n4  Middle  Female     Own   Single    Close   68400         0    High   \n\n   Catalogs  AmountSpent  \n0         6          755  \n1         6         1318  \n2        18          296  \n3        18         2436  \n4        12         1304  \n<class 'pandas.core.frame.DataFrame'>\nRangeIndex: 1000 entries, 0 to 999\nData columns (total 10 columns):\n #   Column       Non-Null Count  Dtype \n---  ------       --------------  ----- \n 0   Age          1000 non-null   object\n 1   Gender       1000 non-null   object\n 2   OwnHome      1000 non-null   object\n 3   Married      1000 non-null   object\n 4   Location     1000 non-null   object\n 5   Salary       1000 non-null   int64 \n 6   Children     1000 non-null   int64 \n 7   History      697 non-null    object\n 8   Catalogs     1000 non-null   int64 \n 9   AmountSpent  1000 non-null   int64 \ndtypes: int64(4), object(6)\nmemory usage: 78.2+ KB\n"
     ]
    }
   ],
   "source": [
    "marketing = pd.read_csv('../data/market/DirectMarketing.csv')\n",
    "groceries = pd.read_csv('../data/market/Groceries_dataset.csv')\n",
    "\n",
    "print(marketing.head())\n",
    "marketing.info()\n"
   ]
  },
  {
   "cell_type": "code",
   "execution_count": 19,
   "metadata": {},
   "outputs": [
    {
     "name": "stdout",
     "output_type": "stream",
     "text": [
      "   Member_number       Date   itemDescription\n0           1808 2015-07-21    tropical fruit\n1           2552 2015-05-01        whole milk\n2           2300 2015-09-19         pip fruit\n3           1187 2015-12-12  other vegetables\n4           3037 2015-01-02        whole milk\n5           4941 2015-02-14        rolls/buns\n6           4501 2015-08-05  other vegetables\n7           3803 2015-12-23        pot plants\n8           2762 2015-03-20        whole milk\n9           4119 2015-12-02    tropical fruit Member_number               int64\nDate               datetime64[ns]\nitemDescription            object\ndtype: object\n"
     ]
    }
   ],
   "source": [
    "# 2、使用 astype 更改数据类型\n",
    "\n",
    "# groceries['Date'] = groceries['Date'].astype('datetime64')\n",
    "# 2.2 使用 to_datetime 方式\n",
    "groceries['Date'] = pd.to_datetime(groceries['Date'])\n",
    "\n",
    "\n",
    "print(groceries.head(10),groceries.dtypes)\n"
   ]
  },
  {
   "cell_type": "code",
   "execution_count": 23,
   "metadata": {
    "collapsed": false
   },
   "outputs": [
    {
     "name": "stdout",
     "output_type": "stream",
     "text": [
      "<class 'pandas.core.frame.DataFrame'>\nRangeIndex: 38765 entries, 0 to 38764\nData columns (total 3 columns):\n #   Column           Non-Null Count  Dtype         \n---  ------           --------------  -----         \n 0   Member_number    38765 non-null  int64         \n 1   Date             38765 non-null  datetime64[ns]\n 2   itemDescription  38765 non-null  object        \ndtypes: datetime64[ns](1), int64(1), object(1)\nmemory usage: 908.7+ KB\nNone\n   Member_number       Date   itemDescription\n0           1808 2015-07-21    tropical fruit\n1           2552 2015-05-01        whole milk\n2           2300 2015-09-19         pip fruit\n3           1187 2015-12-12  other vegetables\n4           3037 2015-01-02        whole milk\n5           4941 2015-02-14        rolls/buns\n6           4501 2015-08-05  other vegetables\n7           3803 2015-12-23        pot plants\n8           2762 2015-03-20        whole milk\n9           4119 2015-12-02    tropical fruit\n"
     ]
    }
   ],
   "source": [
    "# 我们可以在读取数据时为日期分配适当的数据类型。这将使我们不必在以后更改数据类型。\n",
    "gr_df = pd.read_csv('../data/market/Groceries_dataset.csv',parse_dates=['Date'])\n",
    "print(gr_df.info(), gr_df.head(10), sep='\\n')\n"
   ]
  },
  {
   "cell_type": "code",
   "execution_count": 33,
   "metadata": {},
   "outputs": [
    {
     "name": "stdout",
     "output_type": "stream",
     "text": [
      "       Member_number       Date  itemDescription\n4               3037 2015-01-02       whole milk\n1232            3037 2015-02-23  cling film/bags\n1353            4471 2015-02-28           coffee\n3502            1080 2015-05-14  root vegetables\n11517           4471 2014-08-10       whole milk\n(19, 3)\n"
     ]
    }
   ],
   "source": [
    "# 5、使用 isin 方法进行筛选\n",
    "bool_filter_s = gr_df['Member_number'].isin(['1080', '4471', '3037'])  # 返回的是一个 bool_series\n",
    "filter_df = gr_df.loc[bool_filter_s]  # df使用 loc 作为 boolean 的筛选\n",
    "print(filter_df.head(), filter_df.shape,sep='\\n')\n"
   ]
  },
  {
   "cell_type": "code",
   "execution_count": 31,
   "metadata": {},
   "outputs": [
    {
     "name": "stdout",
     "output_type": "stream",
     "text": [
      "(38746, 3) (38765, 3)\n"
     ]
    }
   ],
   "source": [
    "# ~ 取反 处理\n",
    "negation_s = ~gr_df['Member_number'].isin(['1080', '4471', '3037'])\n",
    "filter_df2 = gr_df.loc[negation_s]\n",
    "print(filter_df2.shape, gr_df.shape)\n",
    "\n"
   ]
  },
  {
   "cell_type": "code",
   "execution_count": 40,
   "metadata": {
    "collapsed": true
   },
   "outputs": [
    {
     "data": {
      "text/plain": [
       "12    0.282\n6     0.252\n24    0.233\n18    0.233\nName: Catalogs, dtype: float64"
      ]
     },
     "execution_count": 40,
     "metadata": {},
     "output_type": "execute_result"
    }
   ],
   "source": [
    "# value_counts是最常用的函数之一。它计算每个值的匹配次数并返回一个序列。如果与规范化参数一起使用，我们会获得发生百分比的概览。\n",
    "marketing['Catalogs'].value_counts(normalize=True)   # 出现的频率  百分比\n",
    "\n"
   ]
  },
  {
   "cell_type": "code",
   "execution_count": 43,
   "metadata": {},
   "outputs": [
    {
     "name": "stdout",
     "output_type": "stream",
     "text": [
      "<class 'pandas.core.frame.DataFrame'>\nDatetimeIndex: 38765 entries, 2015-07-21 to 2014-12-26\nData columns (total 3 columns):\n #   Column           Non-Null Count  Dtype         \n---  ------           --------------  -----         \n 0   Member_number    38765 non-null  int64         \n 1   Date             38765 non-null  datetime64[ns]\n 2   itemDescription  38765 non-null  object        \ndtypes: datetime64[ns](1), int64(1), object(1)\nmemory usage: 1.2+ MB\n            Member_number       Date   itemDescription\nDate                                                  \n2015-07-21           1808 2015-07-21    tropical fruit\n2015-05-01           2552 2015-05-01        whole milk\n2015-09-19           2300 2015-09-19         pip fruit\n2015-12-12           1187 2015-12-12  other vegetables\n2015-01-02           3037 2015-01-02        whole milk\n2015-02-14           4941 2015-02-14        rolls/buns\n2015-08-05           4501 2015-08-05  other vegetables\n2015-12-23           3803 2015-12-23        pot plants\n2015-03-20           2762 2015-03-20        whole milk\n2015-12-02           4119 2015-12-02    tropical fruit None\n"
     ]
    }
   ],
   "source": [
    "# 重置索引\n",
    "# 默认情况下，Pandas 会为数据框分配整数索引，但我们也可以使用\"索引\"函数set_index。\n",
    "# 例如，我们可以将日期列设置为数据框的索引。\n",
    "\n",
    "gr_df.set_index(gr_df['Date'],inplace=True)\n",
    "print(gr_df.head(10), gr_df.info())\n",
    "\n",
    "\n",
    "\n"
   ]
  },
  {
   "cell_type": "code",
   "execution_count": 46,
   "metadata": {},
   "outputs": [
    {
     "data": {
      "text/plain": [
       "array(['tropical fruit', 'whole milk', 'pip fruit', 'other vegetables',\n       'rolls/buns'], dtype=object)"
      ]
     },
     "execution_count": 46,
     "metadata": {},
     "output_type": "execute_result"
    }
   ],
   "source": [
    "# unique 函数返回列中唯一值的数组。\n",
    "gr_df.itemDescription.unique()[:5]\n"
   ]
  },
  {
   "cell_type": "code",
   "execution_count": 59,
   "metadata": {
    "collapsed": true
   },
   "outputs": [
    {
     "name": "stdout",
     "output_type": "stream",
     "text": [
      "        Age  Gender OwnHome Married Location  Salary  Children History  \\\n289   Young  Female    Rent  Single    Close   14500         1     Low   \n821   Young  Female     Own  Single    Close   32600         3     Low   \n479  Middle  Female     Own  Single    Close   35200         2     Low   \n422   Young  Female    Rent  Single    Close   11500         3     NaN   \n436  Middle    Male     Own  Single    Close   49200         3     Low   \n\n     Catalogs  AmountSpent  \n289         6          183  \n821        12          172  \n479         6          233  \n422         6          157  \n436        12          210  \n"
     ]
    }
   ],
   "source": [
    "# sample 函数可用于创建数据帧的随机样本。在机器学习中处理不平衡数据集时，它会派上用场。\n",
    "\n",
    "# print(marketing.head(10))\n",
    "sampled_mrk = marketing[marketing.AmountSpent < 300].sample(n=400,replace=True)\n",
    "sampled_mrk.shape\n",
    "print(sampled_mrk.tail())\n"
   ]
  },
  {
   "cell_type": "code",
   "execution_count": 61,
   "metadata": {},
   "outputs": [
    {
     "data": {
      "text/plain": [
       "(1400, 10)"
      ]
     },
     "execution_count": 61,
     "metadata": {},
     "output_type": "execute_result"
    }
   ],
   "source": [
    "\n",
    "# 合并集合\n",
    "# 我们可以水平或垂直地将数据帧与串联函数串联。\n",
    "marketing_concat = pd.concat([marketing,sampled_mrk], axis=0)\n",
    "marketing_concat.shape\n",
    "\n"
   ]
  },
  {
   "cell_type": "code",
   "execution_count": 65,
   "metadata": {},
   "outputs": [
    {
     "name": "stdout",
     "output_type": "stream",
     "text": [
      "      Age  Gender OwnHome\n0     Old  Female     Own\n1  Middle    Male    Rent\n2   Young  Female    Rent\n3  Middle    Male     Own\n"
     ]
    }
   ],
   "source": [
    "# 13、按索引选择行和列的范围\n",
    "# 我们可以选择前 4 行和前 3 列\n",
    "print(marketing_concat.iloc[:4,:3])\n",
    "\n"
   ]
  },
  {
   "cell_type": "code",
   "execution_count": 69,
   "metadata": {},
   "outputs": [
    {
     "name": "stdout",
     "output_type": "stream",
     "text": [
      "    Gender  Married Location\n28  Female  Married    Close\n30  Female  Married    Close\n92    Male  Married    Close\n22  Female  Married      Far\n14  Female  Married      Far\n49  Female  Married    Close\n52  Female  Married    Close\n57    Male  Married    Close\n48    Male  Married    Close\n19  Female   Single      Far\n"
     ]
    }
   ],
   "source": [
    "# iloc 函数还接受值数组而不是范围。我们可以传递一个列表或数字数组。\n",
    "row_index = np.random.randint(10,100,10)\n",
    "print(marketing_concat.iloc[row_index, [1,3,4]])\n",
    "\n",
    "\n"
   ]
  },
  {
   "cell_type": "code",
   "execution_count": 72,
   "metadata": {
    "collapsed": true
   },
   "outputs": [
    {
     "name": "stdout",
     "output_type": "stream",
     "text": [
      "     Gender Location\n0    Female      Far\n1      Male    Close\n2    Female    Close\n3      Male    Close\n4    Female    Close\n..      ...      ...\n414    Male      Far\n531  Female    Close\n365  Female    Close\n83   Female    Close\n132    Male    Close\n\n[1400 rows x 2 columns]\n"
     ]
    }
   ],
   "source": [
    "# loc 函数与 iloc 函数一样，但它接受标签而不是索引\n",
    "print(marketing_concat.loc[:,['Gender', 'Location']])\n",
    "\n",
    "\n",
    "\n"
   ]
  },
  {
   "cell_type": "code",
   "execution_count": 89,
   "metadata": {
    "collapsed": true
   },
   "outputs": [
    {
     "data": {
      "text/plain": [
       "Date\n2015-07-21    07\n2015-05-01    05\n2015-09-19    09\n2015-12-12    12\n2015-01-02    01\n              ..\n2014-08-10    08\n2014-02-23    02\n2014-04-16    04\n2014-03-12    03\n2014-12-26    12\nName: month, Length: 38765, dtype: object"
      ]
     },
     "execution_count": 89,
     "metadata": {},
     "output_type": "execute_result"
    }
   ],
   "source": [
    "# 16、从日期提取年和月\n",
    "gr_df['month'] = gr_df['Date'].dt.month\n",
    "gr_df['year'] = gr_df['Date'].dt.year\n",
    "\n",
    "# month 不足 2位的前面补零\n",
    "gr_df.month.astype(np.str_).map(lambda x: '0'+x if len(x)<2 else x)\n",
    "\n",
    "# print(gr_df.head(10))\n"
   ]
  },
  {
   "cell_type": "code",
   "execution_count": 120,
   "metadata": {
    "collapsed": true
   },
   "outputs": [
    {
     "name": "stdout",
     "output_type": "stream",
     "text": [
      "       Member_number       Date           itemDescription\n38754           4796 2014-02-03     Instant food products\n38755           1987 2014-10-29     fruit/vegetable juice\n38756           4376 2014-07-12                rolls/buns\n38757           2511 2014-06-18  long life bakery product\n38758           3364 2014-06-05                       oil\n38759           4471 2014-08-10             sliced cheese\n38760           2022 2014-02-23                     candy\n38761           1097 2014-04-16                  cake bar\n38762           1510 2014-03-12     fruit/vegetable juice\n38763           1521 2014-12-26                  cat food\n"
     ]
    }
   ],
   "source": [
    "# 删除行 或列\n",
    "\n",
    "# 1 列， 0行\n",
    "# gr_df.drop('month', inplace=True, axis=1)\n",
    "print(gr_df.tail(10))\n",
    "\n",
    "# 删除 行\n",
    "# gr_df.drop(index='2014-09-26', axis=0,inplace=True)\n",
    "# print(gr_df.tail(10))\n",
    "# gr_df.drop('year', inplace=True, axis=1)\n",
    "# gr_df.drop(labels=)\n",
    "\n",
    "# 确定  要删除的index\n",
    "# drop_index = gr_df.shape[0]-10\n",
    "# gr_df.iloc[gr_df.shape[0]-10]\n",
    "# gr_df.drop(labels=[1], inplace=True)\n",
    "# gr_df.set_index(np.array(range(0, gr_df.shape[0])), drop=False, inplace=True)\n",
    "\n",
    "# gr_df.drop(labels=[38755], inplace=True)\n",
    "# gr_df.index = gr_df.reindex()\n",
    "# print(gr_df.tail(10))\n",
    "\n"
   ]
  },
  {
   "cell_type": "code",
   "execution_count": 124,
   "metadata": {
    "collapsed": true
   },
   "outputs": [
    {
     "name": "stdout",
     "output_type": "stream",
     "text": [
      "<class 'pandas.core.frame.DataFrame'>\nInt64Index: 38764 entries, 0 to 38763\nData columns (total 3 columns):\n #   Column           Non-Null Count  Dtype         \n---  ------           --------------  -----         \n 0   Member_number    38764 non-null  int64         \n 1   Date             38764 non-null  datetime64[ns]\n 2   itemDescription  38764 non-null  object        \ndtypes: datetime64[ns](1), int64(1), object(1)\nmemory usage: 1.2+ MB\nNone\n   year  month  Member_number       Date   itemDescription\n0  2015      7           1808 2015-07-21    tropical fruit\n1  2015      5           2552 2015-05-01        whole milk\n2  2015      9           2300 2015-09-19         pip fruit\n3  2015     12           1187 2015-12-12  other vegetables\n4  2015      1           3037 2015-01-02        whole milk\n5  2015      2           4941 2015-02-14        rolls/buns\n6  2015      8           4501 2015-08-05  other vegetables\n7  2015     12           3803 2015-12-23        pot plants\n8  2015      3           2762 2015-03-20        whole milk\n9  2015     12           4119 2015-12-02    tropical fruit\n"
     ]
    }
   ],
   "source": [
    "# 插入列：如果将年和月份列放在日期列之前，则它们可能更好。我们可以使用插入函数来完成此任务\n",
    "print(gr_df.info())\n",
    "s_year = gr_df.Date.dt.year \n",
    "s_month = gr_df.Date.dt.month \n",
    "\n",
    "gr_df.insert(0,'year',s_year)\n",
    "gr_df.insert(1,'month',s_month)\n",
    "\n",
    "print(gr_df.head(10))"
   ]
  },
  {
   "cell_type": "code",
   "execution_count": 138,
   "metadata": {},
   "outputs": [
    {
     "name": "stdout",
     "output_type": "stream",
     "text": [
      "   year      month  Member_number       Date   itemDescription   month_en\n0  2015       July           1808 2015-07-21    tropical fruit       July\n1  2015        May           2552 2015-05-01        whole milk        May\n2  2015  September           2300 2015-09-19         pip fruit  September\n3  2015   December           1187 2015-12-12  other vegetables   December\n4  2015    January           3037 2015-01-02        whole milk    January\n5  2015   February           4941 2015-02-14        rolls/buns   February\n6  2015     August           4501 2015-08-05  other vegetables     August\n7  2015   December           3803 2015-12-23        pot plants   December\n8  2015      March           2762 2015-03-20        whole milk      March\n9  2015   December           4119 2015-12-02    tropical fruit   December\n"
     ]
    }
   ],
   "source": [
    "# 替换值\n",
    "month_names = {1:'January', 2:'February', 3:'March', 4:'April',5: 'May', 6:'June', 7:'July', 8:'August', 9:'September',10:'October', 11:'November', 12:'December'}\n",
    "\n",
    "# gr_df['month']=gr_df.month.map(month_names)\n",
    "\n",
    "# print(gr_df.head(10))\n",
    "\n",
    "# gr_df.Date.dt.month_name().unique()\n",
    "\n",
    "# 2. 简单的方式\n",
    "gr_df['month_en'] = gr_df.Date.dt.month_name()\n",
    "print(gr_df.head(10))\n"
   ]
  },
  {
   "cell_type": "code",
   "execution_count": 144,
   "metadata": {
    "collapsed": true
   },
   "outputs": [
    {
     "name": "stdout",
     "output_type": "stream",
     "text": [
      "0       755\n1      1318\n2       296\n3      2436\n4      1304\n       ... \n414     192\n531      47\n365     199\n83      258\n132     176\nName: AmountSpent, Length: 1400, dtype: int64\n      Age  Gender OwnHome  Married Location  Salary  Children History  \\\n0     Old  Female     Own   Single      Far   47500         0    High   \n1  Middle    Male    Rent   Single    Close   63600         0    High   \n2   Young  Female    Rent   Single    Close   13500         0     Low   \n3  Middle    Male     Own  Married    Close   85600         1    High   \n4  Middle  Female     Own   Single    Close   68400         0    High   \n5   Young    Male     Own  Married    Close   30400         0     Low   \n6  Middle  Female    Rent   Single    Close   48100         0  Medium   \n7  Middle    Male     Own   Single    Close   68400         0    High   \n8  Middle  Female     Own  Married    Close   51900         3     Low   \n9     Old    Male     Own  Married      Far   80700         0     NaN   \n\n   Catalogs  AmountSpent  CumsumAmount  \n0         6          755           755  \n1         6         1318          2073  \n2        18          296          2369  \n3        18         2436          4805  \n4        12         1304          6109  \n5         6          495          6604  \n6        12          782          7386  \n7        18         1155          8541  \n8         6          158          8699  \n9        18         3034         11733  \n"
     ]
    }
   ],
   "source": [
    "# 累计和： 累积函数允许基于上一行的值 累积总和创建列。\n",
    "\n",
    "print(marketing_concat['AmountSpent'])\n",
    "marketing_concat['CumsumAmount'] = marketing_concat['AmountSpent'].cumsum()\n",
    "print(marketing_concat.head(10))"
   ]
  },
  {
   "cell_type": "code",
   "execution_count": 121,
   "metadata": {},
   "outputs": [],
   "source": []
  },
  {
   "cell_type": "code",
   "execution_count": 121,
   "metadata": {},
   "outputs": [],
   "source": []
  },
  {
   "cell_type": "code",
   "execution_count": 121,
   "metadata": {},
   "outputs": [],
   "source": []
  },
  {
   "cell_type": "code",
   "execution_count": 121,
   "metadata": {},
   "outputs": [],
   "source": []
  },
  {
   "cell_type": "code",
   "execution_count": null,
   "metadata": {},
   "outputs": [],
   "source": []
  }
 ],
 "metadata": {
  "kernelspec": {
   "display_name": "Python 2",
   "language": "python",
   "name": "python2"
  },
  "language_info": {
   "codemirror_mode": {
    "name": "ipython",
    "version": 2
   },
   "file_extension": ".py",
   "mimetype": "text/x-python",
   "name": "python",
   "nbconvert_exporter": "python",
   "pygments_lexer": "ipython2",
   "version": "2.7.6"
  }
 },
 "nbformat": 4,
 "nbformat_minor": 0
}
