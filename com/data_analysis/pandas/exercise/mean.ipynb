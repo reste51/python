{
 "cells": [
  {
   "cell_type": "code",
   "execution_count": 2,
   "metadata": {
    "collapsed": true
   },
   "outputs": [],
   "source": [
    "\"\"\"\n",
    "中位数和 均值的区别\n",
    "\n",
    "中位数的理解\n",
    "\"\"\"\n",
    "import pandas as pd\n",
    "import os\n",
    "\n",
    "os.chdir('E:/excise/python/new_project01/com/data_analysis/pandas/excise')"
   ]
  },
  {
   "cell_type": "code",
   "execution_count": 17,
   "metadata": {
    "collapsed": false
   },
   "outputs": [
    {
     "data": {
      "text/plain": [
       "0    EasternAfrica\ndtype: object"
      ]
     },
     "execution_count": 17,
     "metadata": {},
     "output_type": "execute_result"
    }
   ],
   "source": [
    "df = pd.read_csv('../data/country_profile/kiva_country_profile_variables.csv')\n",
    "\n",
    "df = df[['country','Region','Population in thousands (2017)']]\n",
    "df['Population'] = df['Population in thousands (2017)']\n",
    "df.drop(columns='Population in thousands (2017)',inplace=True)\n",
    "\n",
    "# 1.众数，最常见的值，出现频率最大的\n",
    "# 意味着大国家在EasternAfrica \n",
    "df.Region.mode()\n",
    "# print(df.head())\n",
    "\n"
   ]
  },
  {
   "cell_type": "code",
   "execution_count": 26,
   "metadata": {
    "collapsed": false
   },
   "outputs": [
    {
     "data": {
      "text/plain": [
       "65902.1977"
      ]
     },
     "execution_count": 26,
     "metadata": {},
     "output_type": "execute_result"
    }
   ],
   "source": [
    "# 2. 平均值，可以通过汇总一行中的所有值，然后将结果除以它们的数量来计算它\n",
    "p_s = df['Population']\n",
    "round(p_s.mean(),4)  # 65902.19767441861\n",
    "\n",
    "# 另一种方法\n",
    "# p_s.sum() / p_s.size\n",
    "\n",
    "# pd.DataFrame().apply()\n",
    "\n",
    "import numpy as np\n",
    "np.log()\n",
    "np.e\n"
   ]
  },
  {
   "cell_type": "code",
   "execution_count": 29,
   "metadata": {},
   "outputs": [
    {
     "data": {
      "text/plain": [
       "12392.0"
      ]
     },
     "execution_count": 29,
     "metadata": {},
     "output_type": "execute_result"
    }
   ],
   "source": [
    "# 中位数也显示了一个平均数。但它正好是行中间的值\n",
    "# 如果我们将总体值从最小到最大排序，则在该排序行的中间位置\n",
    "p_s.median()\n",
    "pd.Series().apply()\n"
   ]
  },
  {
   "cell_type": "code",
   "execution_count": null,
   "metadata": {},
   "outputs": [],
   "source": []
  }
 ],
 "metadata": {
  "kernelspec": {
   "display_name": "Python 2",
   "language": "python",
   "name": "python2"
  },
  "language_info": {
   "codemirror_mode": {
    "name": "ipython",
    "version": 2
   },
   "file_extension": ".py",
   "mimetype": "text/x-python",
   "name": "python",
   "nbconvert_exporter": "python",
   "pygments_lexer": "ipython2",
   "version": "2.7.6"
  }
 },
 "nbformat": 4,
 "nbformat_minor": 0
}
