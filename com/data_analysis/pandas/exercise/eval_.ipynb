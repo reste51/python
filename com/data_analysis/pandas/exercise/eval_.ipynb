{
 "cells": [
  {
   "cell_type": "code",
   "execution_count": 6,
   "metadata": {},
   "outputs": [],
   "source": [
    "# pandas计算节省内存和加速\n",
    "# numpy与pandas都是Python建立强大生态的基础库，\n",
    "# 他们的厉害之处是通过内置的方法将基本操作转换成C语言，\n",
    "# numpy里面是向量化和广播运算，pandas则是分组型运算。\n",
    "# 便捷快速的同时带来的问题是常需要建立一个临时中间对象，\n",
    "# 这样做会占用大量的计算内存和时间，pandas的eval()和query()\n",
    "# 就是为解决此问题而生的，\n",
    "# 其中eval()函数还分pandas.eval()和pandas.DataFrame.eval()：pandas.eval()可用于多个DataFrame之间的计算，pandas.DataFrame.eval()仅用于DataFrame中列之间的计算。\n",
    "\n",
    "\n",
    "import pandas as pd\n",
    "import os\n",
    "import numpy as np\n",
    "\n",
    "os.chdir('E:/excise/python/new_project01/com/data_analysis/pandas/excise')\n"
   ]
  },
  {
   "cell_type": "code",
   "execution_count": 21,
   "metadata": {},
   "outputs": [
    {
     "name": "stdout",
     "output_type": "stream",
     "text": [
      "<class 'pandas.core.frame.DataFrame'>\nRangeIndex: 100 entries, 0 to 99\nData columns (total 2 columns):\n #   Column  Non-Null Count  Dtype  \n---  ------  --------------  -----  \n 0   A       100 non-null    float64\n 1   B       100 non-null    float64\ndtypes: float64(2)\nmemory usage: 1.7 KB\nNone           A         B\n0  0.690591  0.158550\n1  0.152972  0.923509\n2  0.804164  0.872779\n3  0.849703  0.114949\n4  0.163720  0.785027\n5  0.407677  0.617082\n6  0.706469  0.936097\n7  0.533019  0.460937\n8  0.882817  0.578390\n9  0.901907  0.184558\n"
     ]
    }
   ],
   "source": [
    "\n",
    "# df.eval() 只能用于 该df 中列之间的计算\n",
    "data = np.random.rand(100, 2)\n",
    "df = pd.DataFrame(data, columns=['A','B'])\n",
    "print(df.info(),  df.head(10))\n"
   ]
  },
  {
   "cell_type": "code",
   "execution_count": 18,
   "metadata": {},
   "outputs": [
    {
     "name": "stdout",
     "output_type": "stream",
     "text": [
      "普通分组运算耗时:0.000836\n"
     ]
    }
   ],
   "source": [
    "# 计算 普通 分组型运算,  会创建 临时的对象\n",
    "import time\n",
    "\n",
    "start = time.time()\n",
    "\n",
    "df['C'] = df.A + df.B\n",
    "\n",
    "\n",
    "end = time.time()\n",
    "print('普通分组运算耗时:%f' % (end-start))\n",
    "\n",
    "\n",
    "\n",
    "\n"
   ]
  },
  {
   "cell_type": "code",
   "execution_count": 23,
   "metadata": {},
   "outputs": [
    {
     "name": "stdout",
     "output_type": "stream",
     "text": [
      "          A         B         C\n0  0.690591  0.158550  0.849142\n1  0.152972  0.923509  1.076482\n2  0.804164  0.872779  1.676943\n3  0.849703  0.114949  0.964653\n4  0.163720  0.785027  0.948747\neval运算耗时:0.002991\n"
     ]
    }
   ],
   "source": [
    "# df.eval() 计算会转成 c 语言的numpy 广播机制\n",
    "start = time.time()\n",
    "df.eval('C = A+ B',inplace=True)\n",
    "end = time.time()\n",
    "\n",
    "print(df.head())\n",
    "print('eval运算耗时:%f' % (end-start))"
   ]
  },
  {
   "cell_type": "code",
   "execution_count": 25,
   "metadata": {},
   "outputs": [
    {
     "name": "stdout",
     "output_type": "stream",
     "text": [
      "<class 'pandas.core.frame.DataFrame'>\nRangeIndex: 100 entries, 0 to 99\nData columns (total 4 columns):\n #   Column  Non-Null Count  Dtype  \n---  ------  --------------  -----  \n 0   A       100 non-null    float64\n 1   B       100 non-null    float64\n 2   C       100 non-null    float64\n 3   ret     100 non-null    float64\ndtypes: float64(4)\nmemory usage: 3.2 KB\nNone           A         B         C        ret\n0  0.690591  0.158550  0.849142  10.849142\n1  0.152972  0.923509  1.076482  11.076482\n2  0.804164  0.872779  1.676943  11.676943\n3  0.849703  0.114949  0.964653  10.964653\n4  0.163720  0.785027  0.948747  10.948747\n"
     ]
    }
   ],
   "source": [
    "# eval() 的扩展，增加一个 变量值 进行广播\n",
    "bias = 10\n",
    "\n",
    "df.eval('ret = C + @bias', inplace=True)\n",
    "\n",
    "print(df.info(), df.head())\n",
    "\n",
    "\n",
    "\n",
    "\n",
    "\n"
   ]
  },
  {
   "cell_type": "code",
   "execution_count": 29,
   "metadata": {},
   "outputs": [
    {
     "name": "stdout",
     "output_type": "stream",
     "text": [
      "0    10.849142\n1    11.076482\n2    11.676943\n3    10.964653\n4    10.948747\nName:  hello ret, dtype: float64\n"
     ]
    }
   ],
   "source": [
    "ret_s = df.ret\n",
    "\n",
    "ret_s.name = ' hello ret'\n",
    "print(ret_s.head())\n",
    "\n",
    "\n"
   ]
  },
  {
   "cell_type": "code",
   "execution_count": 27,
   "metadata": {},
   "outputs": [],
   "source": []
  },
  {
   "cell_type": "code",
   "execution_count": 27,
   "metadata": {},
   "outputs": [],
   "source": []
  },
  {
   "cell_type": "code",
   "execution_count": 27,
   "metadata": {},
   "outputs": [],
   "source": []
  },
  {
   "cell_type": "code",
   "execution_count": 27,
   "metadata": {},
   "outputs": [],
   "source": []
  },
  {
   "cell_type": "code",
   "execution_count": null,
   "metadata": {},
   "outputs": [],
   "source": []
  }
 ],
 "metadata": {
  "kernelspec": {
   "display_name": "Python 2",
   "language": "python",
   "name": "python2"
  },
  "language_info": {
   "codemirror_mode": {
    "name": "ipython",
    "version": 2
   },
   "file_extension": ".py",
   "mimetype": "text/x-python",
   "name": "python",
   "nbconvert_exporter": "python",
   "pygments_lexer": "ipython2",
   "version": "2.7.6"
  }
 },
 "nbformat": 4,
 "nbformat_minor": 0
}
