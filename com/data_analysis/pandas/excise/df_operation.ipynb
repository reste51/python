{
 "cells": [
  {
   "cell_type": "code",
   "execution_count": 1,
   "metadata": {
    "collapsed": true
   },
   "outputs": [],
   "source": [
    "import  pandas as pd\n",
    "import numpy as np"
   ]
  },
  {
   "cell_type": "code",
   "execution_count": 40,
   "metadata": {
    "collapsed": false
   },
   "outputs": [
    {
     "name": "stdout",
     "output_type": "stream",
     "text": [
      "     Subject      rowid  Score\n0  semester1       1111     62\n1  semester2      22323     47\n2  semester3      23213     55\n3  semester4  312321312     74\n4  semester1     321312     31\n5  semester2         11     77\n6  semester3        122     85\n     Subject  Score\n0  semester1     90\n1  semester2     47\n2  semester3     85\n3  semester4     74\n"
     ]
    }
   ],
   "source": [
    "# create two dataframe\n",
    "df1 = {\n",
    "    'Subject':['semester1','semester2','semester3','semester4','semester1',\n",
    "               'semester2','semester3'],\n",
    "    'rowid':['1111','22323','23213','312321312','321312','11','122'],\n",
    "   'Score':[62,47,55,74,31,77,85]}\n",
    " \n",
    "df2 = {\n",
    "    'Subject':['semester1','semester2','semester3','semester4'],\n",
    "   'Score':[90,47,85,74]}\n",
    "\n",
    "df1 = pd.DataFrame(df1)\n",
    "df2 = pd.DataFrame(df2)\n",
    "\n",
    "print(df1,df2,sep='\\n')\n"
   ]
  },
  {
   "cell_type": "code",
   "execution_count": 4,
   "metadata": {},
   "outputs": [
    {
     "name": "stdout",
     "output_type": "stream",
     "text": [
      "     Subject  Score\n0  semester2     47\n1  semester4     74\n2  semester3     85\n"
     ]
    }
   ],
   "source": [
    "# 求两个dataframe的交集,   两边字段的值 均一样才能匹配\n",
    "innder_df = pd.merge(df1,df2,how='inner')\n",
    "print(innder_df)"
   ]
  },
  {
   "cell_type": "code",
   "execution_count": 8,
   "metadata": {},
   "outputs": [
    {
     "name": "stdout",
     "output_type": "stream",
     "text": [
      "     Subject  Score_x  Score_y\n0  semester1       62       90\n1  semester1       31       90\n2  semester2       47       47\n3  semester2       77       47\n4  semester3       55       85\n5  semester3       85       85\n6  semester4       74       74\n"
     ]
    }
   ],
   "source": [
    "# 指定列的 交集\n",
    "innner_df_2 = pd.merge(df1,df2,on='Subject')\n",
    "print(innner_df_2)\n"
   ]
  },
  {
   "cell_type": "code",
   "execution_count": 43,
   "metadata": {},
   "outputs": [
    {
     "name": "stdout",
     "output_type": "stream",
     "text": [
      "     Subject   rowid  Score\n0  semester1    1111     62\n2  semester3   23213     55\n4  semester1  321312     31\n5  semester2      11     77\n"
     ]
    }
   ],
   "source": [
    "# 差集  df1 - df2\n",
    "set_diff_df = pd.concat([df1, df2, df2]).drop_duplicates(\n",
    "    keep=False, subset=['Subject','Score'])\n",
    "print(set_diff_df)\n",
    "\n",
    "\n",
    "\n"
   ]
  },
  {
   "cell_type": "code",
   "execution_count": 42,
   "metadata": {},
   "outputs": [
    {
     "name": "stdout",
     "output_type": "stream",
     "text": [
      "     Subject      rowid  Score\n0  semester1       1111     62\n1  semester2      22323     47\n2  semester3      23213     55\n3  semester4  312321312     74\n4  semester1     321312     31\n5  semester2         11     77\n6  semester3        122     85\n0  semester1        NaN     90\n1  semester2        NaN     47\n2  semester3        NaN     85\n3  semester4        NaN     74\n0  semester1        NaN     90\n1  semester2        NaN     47\n2  semester3        NaN     85\n3  semester4        NaN     74\n"
     ]
    }
   ],
   "source": [
    "# 获取全集 再 取差集: a + b+b = 全集,  多加 一个b集合保证去重后,全部元素都是A内的， 排除b内的元素\n",
    "concat_df = pd.concat([df1,df2,df2])\n",
    "\n",
    "droped_df=concat_df.drop_duplicates(keep=False)\n",
    "print(droped_df)\n",
    "\n",
    "# print(concat_df.shape,droped_df.shape, df1.shape, df2.shape, sep='\\n')\n"
   ]
  },
  {
   "cell_type": "code",
   "execution_count": 26,
   "metadata": {
    "collapsed": true
   },
   "outputs": [
    {
     "data": {
      "text/plain": [
       "{'semester1': [0, 4], 'semester2': [1, 5], 'semester3': [2, 6], 'semester4': [3]}"
      ]
     },
     "execution_count": 26,
     "metadata": {},
     "output_type": "execute_result"
    }
   ],
   "source": [
    "df1.groupby(by='Subject').groups"
   ]
  },
  {
   "cell_type": "code",
   "execution_count": 29,
   "metadata": {},
   "outputs": [
    {
     "name": "stdout",
     "output_type": "stream",
     "text": [
      "     Subject  Score\n1  semester2     47\n5  semester2     77\n"
     ]
    }
   ],
   "source": [
    "print(df1.groupby(by='Subject').get_group('semester2'))"
   ]
  },
  {
   "cell_type": "code",
   "execution_count": 33,
   "metadata": {},
   "outputs": [
    {
     "name": "stdout",
     "output_type": "stream",
     "text": [
      "<class 'pandas.core.frame.DataFrame'>\n"
     ]
    }
   ],
   "source": [
    "import numpy as np\n",
    "\n",
    "d = df1.groupby(by='Subject').agg(np.sum)\n",
    "print(type(d))\n",
    "\n",
    "pd.DataFrame().copy()"
   ]
  },
  {
   "cell_type": "code",
   "execution_count": 44,
   "metadata": {},
   "outputs": [
    {
     "ename": "TypeError",
     "evalue": "a bytes-like object is required, not 'str'",
     "traceback": [
      "\u001b[1;31m---------------------------------------------------------------------------\u001b[0m",
      "\u001b[1;31mTypeError\u001b[0m                                 Traceback (most recent call last)",
      "\u001b[1;32m<ipython-input-44-1b7ab08201ed>\u001b[0m in \u001b[0;36m<module>\u001b[1;34m()\u001b[0m\n\u001b[0;32m      1\u001b[0m \u001b[1;32mfrom\u001b[0m \u001b[0mpandasticsearch\u001b[0m \u001b[1;32mimport\u001b[0m \u001b[0mDataFrame\u001b[0m\u001b[1;33m\u001b[0m\u001b[0m\n\u001b[1;32m----> 2\u001b[1;33m \u001b[0mdf\u001b[0m \u001b[1;33m=\u001b[0m \u001b[0mDataFrame\u001b[0m\u001b[1;33m.\u001b[0m\u001b[0mfrom_es\u001b[0m\u001b[1;33m(\u001b[0m\u001b[0mindex\u001b[0m\u001b[1;33m=\u001b[0m\u001b[1;34m'll'\u001b[0m\u001b[1;33m,\u001b[0m\u001b[0musername\u001b[0m\u001b[1;33m=\u001b[0m\u001b[1;34m'root'\u001b[0m\u001b[1;33m,\u001b[0m\u001b[0mpassword\u001b[0m\u001b[1;33m=\u001b[0m\u001b[1;34m'toor'\u001b[0m\u001b[1;33m)\u001b[0m\u001b[1;33m\u001b[0m\u001b[0m\n\u001b[0m\u001b[0;32m      3\u001b[0m \u001b[0mdf\u001b[0m\u001b[1;33m.\u001b[0m\u001b[0mprint_debug\u001b[0m\u001b[1;33m(\u001b[0m\u001b[1;33m)\u001b[0m\u001b[1;33m\u001b[0m\u001b[0m\n",
      "\u001b[1;32mD:\\program_files\\Anaconda3-5.2.0\\lib\\site-packages\\pandasticsearch\\dataframe.py\u001b[0m in \u001b[0;36mfrom_es\u001b[1;34m(**kwargs)\u001b[0m\n\u001b[0;32m    109\u001b[0m             \u001b[1;32mraise\u001b[0m \u001b[0mValueError\u001b[0m\u001b[1;33m(\u001b[0m\u001b[1;34m'Index name must be specified'\u001b[0m\u001b[1;33m)\u001b[0m\u001b[1;33m\u001b[0m\u001b[0m\n\u001b[0;32m    110\u001b[0m \u001b[1;33m\u001b[0m\u001b[0m\n\u001b[1;32m--> 111\u001b[1;33m         \u001b[0mmapping\u001b[0m \u001b[1;33m=\u001b[0m \u001b[0mRestClient\u001b[0m\u001b[1;33m(\u001b[0m\u001b[0murl\u001b[0m\u001b[1;33m,\u001b[0m \u001b[0mindex\u001b[0m\u001b[1;33m,\u001b[0m \u001b[0musername\u001b[0m\u001b[1;33m,\u001b[0m \u001b[0mpassword\u001b[0m\u001b[1;33m,\u001b[0m \u001b[0mverify_ssl\u001b[0m\u001b[1;33m)\u001b[0m\u001b[1;33m.\u001b[0m\u001b[0mget\u001b[0m\u001b[1;33m(\u001b[0m\u001b[1;33m)\u001b[0m\u001b[1;33m\u001b[0m\u001b[0m\n\u001b[0m\u001b[0;32m    112\u001b[0m \u001b[1;33m\u001b[0m\u001b[0m\n\u001b[0;32m    113\u001b[0m         \u001b[1;32mif\u001b[0m \u001b[0mdoc_type\u001b[0m \u001b[1;32mis\u001b[0m \u001b[1;32mNone\u001b[0m\u001b[1;33m:\u001b[0m\u001b[1;33m\u001b[0m\u001b[0m\n",
      "\u001b[1;32mD:\\program_files\\Anaconda3-5.2.0\\lib\\site-packages\\pandasticsearch\\client.py\u001b[0m in \u001b[0;36mget\u001b[1;34m(self, params)\u001b[0m\n\u001b[0;32m     58\u001b[0m \u001b[1;33m\u001b[0m\u001b[0m\n\u001b[0;32m     59\u001b[0m             \u001b[1;32mif\u001b[0m \u001b[0musername\u001b[0m \u001b[1;32mis\u001b[0m \u001b[1;32mnot\u001b[0m \u001b[1;32mNone\u001b[0m \u001b[1;32mand\u001b[0m \u001b[0mpassword\u001b[0m \u001b[1;32mis\u001b[0m \u001b[1;32mnot\u001b[0m \u001b[1;32mNone\u001b[0m\u001b[1;33m:\u001b[0m\u001b[1;33m\u001b[0m\u001b[0m\n\u001b[1;32m---> 60\u001b[1;33m                 \u001b[0mbase64creds\u001b[0m \u001b[1;33m=\u001b[0m \u001b[0mbase64\u001b[0m\u001b[1;33m.\u001b[0m\u001b[0mb64encode\u001b[0m\u001b[1;33m(\u001b[0m\u001b[1;34m'%s:%s'\u001b[0m \u001b[1;33m%\u001b[0m \u001b[1;33m(\u001b[0m\u001b[0musername\u001b[0m\u001b[1;33m,\u001b[0m\u001b[0mpassword\u001b[0m\u001b[1;33m)\u001b[0m\u001b[1;33m)\u001b[0m\u001b[1;33m\u001b[0m\u001b[0m\n\u001b[0m\u001b[0;32m     61\u001b[0m                 \u001b[0mreq\u001b[0m\u001b[1;33m.\u001b[0m\u001b[0madd_header\u001b[0m\u001b[1;33m(\u001b[0m\u001b[1;34m\"Authorization\"\u001b[0m\u001b[1;33m,\u001b[0m \u001b[1;34m\"Basic %s\"\u001b[0m \u001b[1;33m%\u001b[0m \u001b[0mbase64creds\u001b[0m\u001b[1;33m)\u001b[0m\u001b[1;33m\u001b[0m\u001b[0m\n\u001b[0;32m     62\u001b[0m \u001b[1;33m\u001b[0m\u001b[0m\n",
      "\u001b[1;32mD:\\program_files\\Anaconda3-5.2.0\\lib\\base64.py\u001b[0m in \u001b[0;36mb64encode\u001b[1;34m(s, altchars)\u001b[0m\n\u001b[0;32m     56\u001b[0m     \u001b[0mapplication\u001b[0m \u001b[0mto\u001b[0m \u001b[0me\u001b[0m\u001b[1;33m.\u001b[0m\u001b[0mg\u001b[0m\u001b[1;33m.\u001b[0m \u001b[0mgenerate\u001b[0m \u001b[0murl\u001b[0m \u001b[1;32mor\u001b[0m \u001b[0mfilesystem\u001b[0m \u001b[0msafe\u001b[0m \u001b[0mBase64\u001b[0m \u001b[0mstrings\u001b[0m\u001b[1;33m.\u001b[0m\u001b[1;33m\u001b[0m\u001b[0m\n\u001b[0;32m     57\u001b[0m     \"\"\"\n\u001b[1;32m---> 58\u001b[1;33m     \u001b[0mencoded\u001b[0m \u001b[1;33m=\u001b[0m \u001b[0mbinascii\u001b[0m\u001b[1;33m.\u001b[0m\u001b[0mb2a_base64\u001b[0m\u001b[1;33m(\u001b[0m\u001b[0ms\u001b[0m\u001b[1;33m,\u001b[0m \u001b[0mnewline\u001b[0m\u001b[1;33m=\u001b[0m\u001b[1;32mFalse\u001b[0m\u001b[1;33m)\u001b[0m\u001b[1;33m\u001b[0m\u001b[0m\n\u001b[0m\u001b[0;32m     59\u001b[0m     \u001b[1;32mif\u001b[0m \u001b[0maltchars\u001b[0m \u001b[1;32mis\u001b[0m \u001b[1;32mnot\u001b[0m \u001b[1;32mNone\u001b[0m\u001b[1;33m:\u001b[0m\u001b[1;33m\u001b[0m\u001b[0m\n\u001b[0;32m     60\u001b[0m         \u001b[1;32massert\u001b[0m \u001b[0mlen\u001b[0m\u001b[1;33m(\u001b[0m\u001b[0maltchars\u001b[0m\u001b[1;33m)\u001b[0m \u001b[1;33m==\u001b[0m \u001b[1;36m2\u001b[0m\u001b[1;33m,\u001b[0m \u001b[0mrepr\u001b[0m\u001b[1;33m(\u001b[0m\u001b[0maltchars\u001b[0m\u001b[1;33m)\u001b[0m\u001b[1;33m\u001b[0m\u001b[0m\n",
      "\u001b[1;31mTypeError\u001b[0m: a bytes-like object is required, not 'str'"
     ],
     "output_type": "error"
    }
   ],
   "source": [
    "from pandasticsearch import DataFrame\n",
    "df = DataFrame.from_es(index='ll',username='root',password='toor')\n",
    "df.print_debug()\n",
    "\n"
   ]
  },
  {
   "cell_type": "code",
   "execution_count": null,
   "metadata": {},
   "outputs": [],
   "source": []
  }
 ],
 "metadata": {
  "kernelspec": {
   "display_name": "Python 2",
   "language": "python",
   "name": "python2"
  },
  "language_info": {
   "codemirror_mode": {
    "name": "ipython",
    "version": 2
   },
   "file_extension": ".py",
   "mimetype": "text/x-python",
   "name": "python",
   "nbconvert_exporter": "python",
   "pygments_lexer": "ipython2",
   "version": "2.7.6"
  }
 },
 "nbformat": 4,
 "nbformat_minor": 0
}
