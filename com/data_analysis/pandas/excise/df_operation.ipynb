{
 "cells": [
  {
   "cell_type": "code",
   "execution_count": 1,
   "metadata": {
    "collapsed": true
   },
   "outputs": [],
   "source": [
    "import  pandas as pd\n",
    "import numpy as np"
   ]
  },
  {
   "cell_type": "code",
   "execution_count": 6,
   "metadata": {
    "collapsed": false
   },
   "outputs": [
    {
     "name": "stdout",
     "output_type": "stream",
     "text": [
      "     Subject  Score\n0  semester1     62\n1  semester2     47\n2  semester3     55\n3  semester4     74\n4  semester1     31\n5  semester2     77\n6  semester3     85\n     Subject  Score\n0  semester1     90\n1  semester2     47\n2  semester3     85\n3  semester4     74\n"
     ]
    }
   ],
   "source": [
    "# create two dataframe\n",
    "df1 = {\n",
    "    'Subject':['semester1','semester2','semester3','semester4','semester1',\n",
    "               'semester2','semester3'],\n",
    "   'Score':[62,47,55,74,31,77,85]}\n",
    " \n",
    "df2 = {\n",
    "    'Subject':['semester1','semester2','semester3','semester4'],\n",
    "   'Score':[90,47,85,74]}\n",
    "\n",
    "df1 = pd.DataFrame(df1)\n",
    "df2 = pd.DataFrame(df2)\n",
    "\n",
    "print(df1,df2,sep='\\n')\n"
   ]
  },
  {
   "cell_type": "code",
   "execution_count": 4,
   "metadata": {},
   "outputs": [
    {
     "name": "stdout",
     "output_type": "stream",
     "text": [
      "     Subject  Score\n0  semester2     47\n1  semester4     74\n2  semester3     85\n"
     ]
    }
   ],
   "source": [
    "# 求两个dataframe的交集,   两边字段的值 均一样才能匹配\n",
    "innder_df = pd.merge(df1,df2,how='inner')\n",
    "print(innder_df)"
   ]
  },
  {
   "cell_type": "code",
   "execution_count": 8,
   "metadata": {},
   "outputs": [
    {
     "name": "stdout",
     "output_type": "stream",
     "text": [
      "     Subject  Score_x  Score_y\n0  semester1       62       90\n1  semester1       31       90\n2  semester2       47       47\n3  semester2       77       47\n4  semester3       55       85\n5  semester3       85       85\n6  semester4       74       74\n"
     ]
    }
   ],
   "source": [
    "# 指定列的 交集\n",
    "innner_df_2 = pd.merge(df1,df2,on='Subject')\n",
    "print(innner_df_2)\n"
   ]
  },
  {
   "cell_type": "code",
   "execution_count": 9,
   "metadata": {},
   "outputs": [
    {
     "name": "stdout",
     "output_type": "stream",
     "text": [
      "     Subject  Score\n0  semester1     62\n2  semester3     55\n4  semester1     31\n5  semester2     77\n"
     ]
    }
   ],
   "source": [
    "# 差集  df1 - df2\n",
    "set_diff_df = pd.concat([df1, df2, df2]).drop_duplicates(keep=False)\n",
    "print(set_diff_df)\n",
    "\n",
    "\n",
    "\n"
   ]
  },
  {
   "cell_type": "code",
   "execution_count": 21,
   "metadata": {},
   "outputs": [
    {
     "name": "stdout",
     "output_type": "stream",
     "text": [
      "     Subject  Score\n0  semester1     62\n2  semester3     55\n4  semester1     31\n5  semester2     77\n0  semester1     90\n"
     ]
    }
   ],
   "source": [
    "# 获取全集 再 取差集: a + b+b = 全集,  多加 一个b集合保证去重后,全部元素都是A内的， 排除b内的元素\n",
    "concat_df = pd.concat([df1,df2,df2])\n",
    "\n",
    "\n",
    "droped_df=concat_df.drop_duplicates(keep=False)\n",
    "print(droped_df)\n",
    "\n",
    "# print(concat_df.shape,droped_df.shape, df1.shape, df2.shape, sep='\\n')\n",
    "\n"
   ]
  },
  {
   "cell_type": "code",
   "execution_count": null,
   "metadata": {},
   "outputs": [],
   "source": []
  }
 ],
 "metadata": {
  "kernelspec": {
   "display_name": "Python 2",
   "language": "python",
   "name": "python2"
  },
  "language_info": {
   "codemirror_mode": {
    "name": "ipython",
    "version": 2
   },
   "file_extension": ".py",
   "mimetype": "text/x-python",
   "name": "python",
   "nbconvert_exporter": "python",
   "pygments_lexer": "ipython2",
   "version": "2.7.6"
  }
 },
 "nbformat": 4,
 "nbformat_minor": 0
}
