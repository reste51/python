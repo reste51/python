{
 "cells": [
  {
   "cell_type": "code",
   "execution_count": 8,
   "metadata": {
    "collapsed": true
   },
   "outputs": [],
   "source": [
    "import pandas as pd\n",
    "import numpy as np\n"
   ]
  },
  {
   "cell_type": "code",
   "execution_count": 3,
   "metadata": {},
   "outputs": [
    {
     "name": "stdout",
     "output_type": "stream",
     "text": [
      "   A  D\n0  0  3\n1  1  4\n2  2  5\n"
     ]
    }
   ],
   "source": [
    "df = pd.DataFrame({'A':range(3), 'D': range(3,6)})\n",
    "print(df)"
   ]
  },
  {
   "cell_type": "code",
   "execution_count": 5,
   "metadata": {},
   "outputs": [
    {
     "name": "stdout",
     "output_type": "stream",
     "text": [
      "    A   D\n0  10  13\n1  11  14\n2  12  15\n"
     ]
    }
   ],
   "source": [
    "trans_ret = df.transform(lambda x:  x+10)\n",
    "print(trans_ret)"
   ]
  },
  {
   "cell_type": "code",
   "execution_count": 10,
   "metadata": {},
   "outputs": [
    {
     "name": "stdout",
     "output_type": "stream",
     "text": [
      "       sqrt        exp\n0  0.000000   1.000000\n1  1.000000   2.718282\n2  1.414214   7.389056\n3  1.732051  20.085537\n4  2.000000  54.598150\n0    0\n1    1\n2    2\n3    3\n4    4\ndtype: int64\n"
     ]
    }
   ],
   "source": [
    "s = pd.Series(range(5))\n",
    "ret  = s.transform([np.sqrt, np.exp])\n",
    "print(ret, s, sep='\\n')"
   ]
  },
  {
   "cell_type": "code",
   "execution_count": 28,
   "metadata": {},
   "outputs": [
    {
     "name": "stdout",
     "output_type": "stream",
     "text": [
      "         Date  Data\n0  2015-05-08     5\n1  2015-05-07     8\n2  2015-05-06     6\n3  2015-05-05     1\n4  2015-05-08    50\n5  2015-05-07   100\n6  2015-05-06    60\n7  2015-05-05   120\n"
     ]
    }
   ],
   "source": [
    "df = pd.DataFrame({\n",
    "    \"Date\": [\n",
    "        \"2015-05-08\", \"2015-05-07\", \"2015-05-06\", \"2015-05-05\",\n",
    "        \"2015-05-08\", \"2015-05-07\", \"2015-05-06\", \"2015-05-05\"],\n",
    "    \"Data\": [5, 8, 6, 1, 50, 100, 60, 120],\n",
    "})\n",
    "\n",
    "print(df)"
   ]
  },
  {
   "cell_type": "code",
   "execution_count": 34,
   "metadata": {},
   "outputs": [
    {
     "name": "stdout",
     "output_type": "stream",
     "text": [
      "0     55\n1    108\n2     66\n3    121\n4     55\n5    108\n6     66\n7    121\nName: Data, dtype: int64\n"
     ]
    }
   ],
   "source": [
    "# for val,vv in df.groupby('Date')['Data'].transform('count'):\n",
    "#     print(val)\n",
    "#     print(vv)\n",
    "\n",
    "g_ret = df.groupby('Date')['Data'].transform('sum')\n",
    "print(g_ret)\n",
    "# print(df)\n"
   ]
  },
  {
   "cell_type": "code",
   "execution_count": 183,
   "metadata": {},
   "outputs": [
    {
     "name": "stdout",
     "output_type": "stream",
     "text": [
      "   c type\n0  1    m\n1  1    n\n2  1    o\n3  2    m\n4  2    m\n5  2    n\n6  2    n\n"
     ]
    }
   ],
   "source": [
    "df = pd.DataFrame({\n",
    "    \"c\": [1, 1, 1, 2, 2, 2, 2],\n",
    "    \"type\": [\"m\", \"n\", \"o\", \"m\", \"m\", \"n\", \"n\"]\n",
    "})\n",
    "print(df)"
   ]
  },
  {
   "cell_type": "code",
   "execution_count": 184,
   "metadata": {},
   "outputs": [
    {
     "name": "stdout",
     "output_type": "stream",
     "text": [
      "   c type  size\n0  1    m     3\n1  1    n     3\n2  1    o     3\n3  2    m     4\n4  2    m     4\n5  2    n     4\n6  2    n     4\n"
     ]
    }
   ],
   "source": [
    "df['size'] = df.groupby('c').transform(len)\n",
    "\n",
    "print(df)"
   ]
  },
  {
   "cell_type": "code",
   "execution_count": 44,
   "metadata": {},
   "outputs": [
    {
     "name": "stdout",
     "output_type": "stream",
     "text": [
      "     A    B    C\n0  1.0  2.0  3.0\n1  4.0  5.0  6.0\n2  7.0  8.0  9.0\n3  NaN  NaN  NaN\n"
     ]
    }
   ],
   "source": [
    "df = pd.DataFrame([[1, 2, 3],\n",
    "                   [4, 5, 6],\n",
    "                   [7, 8, 9],\n",
    "                   [np.nan, np.nan, np.nan]],\n",
    "                  columns=['A', 'B', 'C'])\n",
    "\n",
    "\n",
    "print(df)"
   ]
  },
  {
   "cell_type": "code",
   "execution_count": 45,
   "metadata": {},
   "outputs": [
    {
     "name": "stdout",
     "output_type": "stream",
     "text": [
      "        A     B     C\nsum  12.0  15.0  18.0\nmin   1.0   2.0   3.0\n"
     ]
    }
   ],
   "source": [
    "agg_ret = df.agg(['sum','min'])\n",
    "\n",
    "print(agg_ret)"
   ]
  },
  {
   "cell_type": "code",
   "execution_count": 49,
   "metadata": {},
   "outputs": [
    {
     "name": "stdout",
     "output_type": "stream",
     "text": [
      "        A    C\nmax   NaN  9.0\nmin   1.0  3.0\nsum  12.0  NaN\n     A    B    C\n0  1.0  2.0  3.0\n1  4.0  5.0  6.0\n2  7.0  8.0  9.0\n3  NaN  NaN  NaN\n"
     ]
    }
   ],
   "source": [
    "# different agg in per column\n",
    "agg_ret = df.agg({'A':['sum','min'],'C':['max','min']})\n",
    "print(agg_ret,df,sep='\\n')"
   ]
  },
  {
   "cell_type": "code",
   "execution_count": 54,
   "metadata": {},
   "outputs": [
    {
     "name": "stdout",
     "output_type": "stream",
     "text": [
      "      A    B     C\nX   7.0  NaN   NaN\nVB  NaN  2.0   NaN\nPO  NaN  NaN  18.0\n0    2.0\n1    5.0\n2    8.0\n3    NaN\ndtype: float64\n     A    B    C\n0  1.0  2.0  3.0\n1  4.0  5.0  6.0\n2  7.0  8.0  9.0\n3  NaN  NaN  NaN\n"
     ]
    }
   ],
   "source": [
    "# aggregate different function over column,  and rename the index of the resulting dataframe\n",
    "g_ret = df.agg(X=('A','max'),VB=('B','min'),PO=('C','sum'))\n",
    "print(g_ret)\n",
    "\n",
    "# 每行的中位数\n",
    "agg_ret_2 = df.agg('mean',axis='columns')\n",
    "print(agg_ret_2, df, sep='\\n')\n",
    "\n",
    "\n",
    "\n"
   ]
  },
  {
   "cell_type": "code",
   "execution_count": 55,
   "metadata": {},
   "outputs": [],
   "source": [
    "def extract_city_name(df):\n",
    "        \"\"\"\n",
    "        Chicago, IL -> Chicago for city_name column\n",
    "        \"\"\"\n",
    "        df[\"city_name\"] = df[\"city_and_code\"].str.split(\",\").str.get(0)\n",
    "        return df"
   ]
  },
  {
   "cell_type": "code",
   "execution_count": 56,
   "metadata": {},
   "outputs": [],
   "source": [
    "def add_country_name(df, country_name=None):\n",
    "        \"\"\"\n",
    "        Chicago -> Chicago-US for city_name column\n",
    "        \"\"\"\n",
    "        col = \"city_name\"\n",
    "        df[\"city_and_country\"] = df[col] + country_name\n",
    "        return df"
   ]
  },
  {
   "cell_type": "code",
   "execution_count": 58,
   "metadata": {},
   "outputs": [
    {
     "name": "stdout",
     "output_type": "stream",
     "text": [
      "  city_and_code\n0   Chicago, IL\n"
     ]
    }
   ],
   "source": [
    "df_p = pd.DataFrame({\"city_and_code\": [\"Chicago, IL\"]})\n",
    "\n",
    "print(df_p)\n"
   ]
  },
  {
   "cell_type": "code",
   "execution_count": 59,
   "metadata": {},
   "outputs": [
    {
     "name": "stdout",
     "output_type": "stream",
     "text": [
      "  city_and_code city_name city_and_country\n0   Chicago, IL   Chicago        ChicagoUS\n"
     ]
    }
   ],
   "source": [
    "df_ret = df_p.pipe(extract_city_name).pipe(add_country_name,country_name='US')\n",
    "\n",
    "print(df_ret)\n"
   ]
  },
  {
   "cell_type": "code",
   "execution_count": 60,
   "metadata": {},
   "outputs": [
    {
     "name": "stdout",
     "output_type": "stream",
     "text": [
      "   AAA  BBB  CCC\n0    4   10  100\n1    5   20   50\n2    6   30  -30\n3    7   40  -50\n"
     ]
    }
   ],
   "source": [
    "df = pd.DataFrame(\n",
    "        {\"AAA\": [4, 5, 6, 7], \"BBB\": [10, 20, 30, 40], \"CCC\": [100, 50, -30, -50]}\n",
    "   )\n",
    "\n",
    "print(df)"
   ]
  },
  {
   "cell_type": "code",
   "execution_count": 61,
   "metadata": {},
   "outputs": [
    {
     "name": "stdout",
     "output_type": "stream",
     "text": [
      "   AAA  BBB  CCC\n0    4   10  100\n1    5  -10   50\n2    6  -10  -30\n3    7  -10  -50\n"
     ]
    }
   ],
   "source": [
    "# if - then \n",
    "df.loc[df.AAA> 4, 'BBB'] = -10\n",
    "print(df)"
   ]
  },
  {
   "cell_type": "code",
   "execution_count": 62,
   "metadata": {},
   "outputs": [
    {
     "name": "stdout",
     "output_type": "stream",
     "text": [
      "   AAA   BBB   CCC\n0    4    10   100\n1    5  1000  1000\n2    6  1000  1000\n3    7  1000  1000\n"
     ]
    }
   ],
   "source": [
    "# and if-then assignment 2 columns\n",
    "df.loc[df.AAA>=5,['BBB','CCC']] = 1000\n",
    "print(df)\n",
    "\n"
   ]
  },
  {
   "cell_type": "code",
   "execution_count": 68,
   "metadata": {},
   "outputs": [
    {
     "name": "stdout",
     "output_type": "stream",
     "text": [
      "    AAA    BBB    CCC\n0  True  False   True\n1  True  False  False\n2  True  False   True\n3  True  False  False\n   AAA   BBB   CCC\n0    4 -1999   100\n1    5 -1999 -1999\n2    6 -1999  1000\n3    7 -1999 -1999\n"
     ]
    }
   ],
   "source": [
    "df_mask = pd.DataFrame(\n",
    "    {\"AAA\": [True] * 4, \"BBB\": [False] * 4, \"CCC\": [True, False] * 2}\n",
    "   )\n",
    "print(df_mask)\n",
    "\n",
    "df = df.where(df_mask, -1999)\n",
    "print(df)"
   ]
  },
  {
   "cell_type": "code",
   "execution_count": 73,
   "metadata": {},
   "outputs": [
    {
     "name": "stdout",
     "output_type": "stream",
     "text": [
      "   AAA  BBB  CCC logic\n0    4   10  100   low\n1    5   20   50   low\n2    6   30  -30  high\n3    7   40  -50  high\n"
     ]
    }
   ],
   "source": [
    "# if then else : using numpy's where()\n",
    "df = pd.DataFrame({'AAA':[4,5,6,7],\"BBB\": [10, 20, 30, 40], \"CCC\": [100, 50, -30, -50]})\n",
    "\n",
    "# numpy.where ->  print(df.shape, df, sep='\\n')  # (4,3)\n",
    "df['logic'] = np.where(df['AAA']>5,'high','low')\n",
    "print(df)\n",
    "\n"
   ]
  },
  {
   "cell_type": "code",
   "execution_count": 77,
   "metadata": {},
   "outputs": [
    {
     "name": "stdout",
     "output_type": "stream",
     "text": [
      "   AAA  BBB  CCC\n2    6   30  -30\n3    7   40  -50\n   AAA  BBB  CCC\n0    4   10  100\n1    5   20   50\n****************************************************************************************************\n   AAA  BBB  CCC\n0    4   10  100\n1    5   20   50\n2    6   30  -30\n3    7   40  -50\n"
     ]
    }
   ],
   "source": [
    "# splitting a frame with a boolean criterion\n",
    "df = pd.DataFrame(\n",
    "    {\"AAA\": [4, 5, 6, 7], \"BBB\": [10, 20, 30, 40], \"CCC\": [100, 50, -30, -50]}\n",
    ")\n",
    "\n",
    "print(df.loc[df.AAA>5])\n",
    "print(df.loc[df.AAA<=5])\n",
    "print('*'*100)\n",
    "\n",
    "print(df)\n"
   ]
  },
  {
   "cell_type": "code",
   "execution_count": 86,
   "metadata": {},
   "outputs": [
    {
     "name": "stdout",
     "output_type": "stream",
     "text": [
      "(4, 3)\n   AAA  BCA  NBA\n0    4   10  100\n1    5   20   50\n2    6   30  -30\n3    7   40  -50\n"
     ]
    }
   ],
   "source": [
    "# building create multiple column criteria \n",
    "df = pd.DataFrame(\n",
    "    {'AAA':[4, 5, 6, 7], 'BCA':[10, 20, 30, 40],'NBA':[100, 50, -30, -50]}\n",
    ")\n",
    "\n",
    "print(df.shape, df, sep='\\n')  # 4,3\n"
   ]
  },
  {
   "cell_type": "code",
   "execution_count": 82,
   "metadata": {},
   "outputs": [
    {
     "data": {
      "text/plain": [
       "2   -30\nName: NBA, dtype: int64"
      ]
     },
     "execution_count": 82,
     "metadata": {},
     "output_type": "execute_result"
    }
   ],
   "source": [
    "df.loc[(df.AAA>5) & (df.BCA<40) ,'NBA']"
   ]
  },
  {
   "cell_type": "code",
   "execution_count": 87,
   "metadata": {},
   "outputs": [],
   "source": [
    "# or , with assignment modifies DataFrame\n",
    "df.loc[(df.AAA<6) | (df.BCA<20),'NBA'] = -100\n",
    "\n"
   ]
  },
  {
   "cell_type": "code",
   "execution_count": 88,
   "metadata": {},
   "outputs": [
    {
     "name": "stdout",
     "output_type": "stream",
     "text": [
      "   AAA  BCA  NBA\n0    4   10 -100\n1    5   20 -100\n2    6   30  -30\n3    7   40  -50\n"
     ]
    }
   ],
   "source": [
    "print(df)"
   ]
  },
  {
   "cell_type": "code",
   "execution_count": 89,
   "metadata": {},
   "outputs": [
    {
     "name": "stdout",
     "output_type": "stream",
     "text": [
      "     AAA  BBB  CCC\nfoo    4   10  100\nbar    5   20   50\nboo    6   30  -30\nkar    7   40  -50\n"
     ]
    }
   ],
   "source": [
    "df = pd.DataFrame(\n",
    "   {\"AAA\": [4, 5, 6, 7], \"BBB\": [10, 20, 30, 40], \"CCC\": [100, 50, -30, -50]},\n",
    "   index=[\"foo\", \"bar\", \"boo\", \"kar\"],\n",
    ")\n",
    "print(df)"
   ]
  },
  {
   "cell_type": "code",
   "execution_count": 93,
   "metadata": {},
   "outputs": [
    {
     "name": "stdout",
     "output_type": "stream",
     "text": [
      "     AAA  BBB  CCC\nbar    5   20   50\nboo    6   30  -30\nkar    7   40  -50\n     AAA  BBB  CCC\nbar    5   20   50\nboo    6   30  -30\nkar    7   40  -50\n     AAA  BBB  CCC\nbar    5   20   50\nboo    6   30  -30\nkar    7   40  -50\n"
     ]
    }
   ],
   "source": [
    "# There are 2 explicit slicing methods, with a third general case\n",
    "# Positional-oriented (Python slicing style : exclusive of end)\n",
    "# Label-oriented (Non-Python slicing style : inclusive of end)\n",
    "# General (Either slicing style : depends on if the slice contains labels or positions)\n",
    "\n",
    "print(df.loc['bar':'kar'])\n",
    "print(df.iloc[1:4])\n",
    "\n",
    "print(df['bar':'kar'])\n",
    "\n",
    "\n"
   ]
  },
  {
   "cell_type": "code",
   "execution_count": 99,
   "metadata": {},
   "outputs": [
    {
     "name": "stdout",
     "output_type": "stream",
     "text": [
      "   AAA  BBB  CCC\n1    4   10  100\n2    5   20   50\n3    6   30  -30\n4    7   40  -50\n   AAA  BBB  CCC\n2    5   20   50\n3    6   30  -30\n   AAA  BBB  CCC\n1    4   10  100\n2    5   20   50\n3    6   30  -30\n"
     ]
    }
   ],
   "source": [
    "data = {\"AAA\": [4, 5, 6, 7], \"BBB\": [10, 20, 30, 40], \"CCC\": [100, 50, -30, -50]}\n",
    "df = pd.DataFrame(data, index=[1,2,3,4])\n",
    "print(df) \n",
    "\n",
    "print(df.iloc[1:3])  # position\n",
    "\n",
    "print(df.loc[1:3])   # label select\n",
    "\n",
    " "
   ]
  },
  {
   "cell_type": "code",
   "execution_count": 103,
   "metadata": {},
   "outputs": [
    {
     "name": "stdout",
     "output_type": "stream",
     "text": [
      "   AAA  BBB  CCC\n0    4   10  100\n1    5   20   50\n2    6   30  -30\n3    7   40  -50\n   AAA  BBB  CCC\n2    6   30  -30\n3    7   40  -50\n"
     ]
    }
   ],
   "source": [
    "# Using inverse operator (~) to take the complement of a mask\n",
    "df = pd.DataFrame(\n",
    "   {\"AAA\": [4, 5, 6, 7], \"BBB\": [10, 20, 30, 40], \"CCC\": [100, 50, -30, -50]}\n",
    ")\n",
    "\n",
    "print(df)\n",
    "ret = df.loc[ ~((df.AAA<6) & (df.index.isin([0,1,3])))]\n",
    "print(ret)\n",
    "\n"
   ]
  },
  {
   "cell_type": "code",
   "execution_count": 107,
   "metadata": {},
   "outputs": [
    {
     "name": "stdout",
     "output_type": "stream",
     "text": [
      "   AAA  BBB  CCC AAA_cat BBB_cat CCC_cat\n0    1    1    2  banana  banana   apple\n1    2    1    1   apple  banana  banana\n2    1    2    3  banana   apple    pear\n3    3    2    1    pear   apple  banana\n"
     ]
    }
   ],
   "source": [
    "# Efficiently and dynamically creating new columns using applymap\n",
    "\n",
    "df = pd.DataFrame({\"AAA\": [1, 2, 1, 3], \"BBB\": [1, 1, 2, 2], \"CCC\": [2, 1, 3, 1]})\n",
    "\n",
    "# print(df, df.columns, sep='\\n')\n",
    "\n",
    "source_cols = df.columns\n",
    "new_cols = [str(col)+'_cat' for col in source_cols]\n",
    "\n",
    "map_value = {1:'banana',2:'apple',3:'pear'}\n",
    "\n",
    "df[new_cols] = df[source_cols].applymap(map_value.get)\n",
    "print(df)\n",
    "\n"
   ]
  },
  {
   "cell_type": "code",
   "execution_count": 126,
   "metadata": {},
   "outputs": [
    {
     "name": "stdout",
     "output_type": "stream",
     "text": [
      "   AAA  BBB\n0    1    2\n1    1    1\n2    1    3\n3    2    4\n4    2    5\n5    2    1\n6    3    2\n7    3    3\n   AAA  BBB\n1    1    1\n5    2    1\n6    3    2\n****************************************************************************************************\n   AAA  BBB\n0    1    1\n1    2    1\n2    3    2\n"
     ]
    }
   ],
   "source": [
    "# Keep other columns when using min() with groupby\n",
    "df = pd.DataFrame(\n",
    "   {\"AAA\": [1, 1, 1, 2, 2, 2, 3, 3], \"BBB\": [2, 1, 3, 4, 5, 1, 2, 3]}\n",
    ")\n",
    "print(df)\n",
    "# idxmin() to get the index of the minimums, BBB为当前A分组下最小的值\n",
    "index_min = df.groupby('AAA')['BBB'].idxmin()\n",
    "df_g = df.loc[index_min]\n",
    "print(df_g)\n",
    "\n",
    "print('*'*100)\n",
    "\n",
    "# Method 2 : sort then take first of each\n",
    "df = df.sort_values(by='BBB')\n",
    "\n",
    "# as_index， 分组 A字段不作为索引值， 自动创建索引\n",
    "df_g_2 = df.groupby('AAA',as_index=False).first()\n",
    "print(df_g_2)\n"
   ]
  },
  {
   "cell_type": "code",
   "execution_count": 135,
   "metadata": {},
   "outputs": [
    {
     "name": "stdout",
     "output_type": "stream",
     "text": [
      "                   A\n2013-08-01  2.297257\n2013-08-02 -0.030905\n2013-08-05  0.108722\n2013-08-06 -1.080954\n2013-08-07  0.392965\n2013-08-08 -0.775060\n                   A\n2013-08-08 -0.775060\n2013-08-07  0.392965\n2013-08-06 -1.080954\n2013-08-05 -1.080954\n2013-08-02 -0.030905\n2013-08-01  2.297257\n"
     ]
    }
   ],
   "source": [
    "# ret = pd.date_range('2021-07-08',periods=8)\n",
    "\n",
    "df = pd.DataFrame(\n",
    "    np.random.randn(6, 1),\n",
    "   index=pd.date_range(\"2013-08-01\", periods=6, freq=\"B\"),\n",
    "   columns=list(\"A\"),\n",
    ")\n",
    "print(df)\n",
    "df.loc[df.index[2],'A'] = np.nan\n",
    "\n",
    "# 倒序索引\n",
    "df = df.reindex(df.index[::-1])\n",
    "\n",
    "print(df.ffill())\n"
   ]
  },
  {
   "cell_type": "code",
   "execution_count": 168,
   "metadata": {},
   "outputs": [
    {
     "name": "stdout",
     "output_type": "stream",
     "text": [
      "  animal size  weight  adult\n0    cat    L      60  False\n1    dog    S      20  False\n2   fish    M      12  False\n3    cat    M      11  False\n4    dog    S       9  False\n5    cat    L       9   True\n6    cat    M      10   True\nanimal\ncat     L\ndog     S\nfish    M\ndtype: object\n  animal size  weight  adult\n0    cat    L      60  False\n3    cat    M      11  False\n5    cat    L       9   True\n6    cat    M      10   True\n"
     ]
    }
   ],
   "source": [
    "# basic grouping with apply\n",
    "\n",
    "df = pd.DataFrame({\n",
    "    'animal': 'cat dog fish cat dog cat cat'.split(),\n",
    "    'size': list('LSMMSLM'),\n",
    "    'weight':[60,20,12,11,9,9,10],\n",
    "    'adult':[False]*5 + [True]*2\n",
    "})\n",
    "\n",
    "# list the size of the animal with the highest weight\n",
    "df_g = df.groupby('animal').apply(lambda row: row['size'][row.weight.idxmax()])\n",
    "print(df, df_g, sep='\\n')\n",
    "\n"
   ]
  },
  {
   "cell_type": "code",
   "execution_count": 172,
   "metadata": {},
   "outputs": [
    {
     "name": "stdout",
     "output_type": "stream",
     "text": [
      "  animal size  weight  adult\n0    cat    L      60  False\n3    cat    M      11  False\n5    cat    L       9   True\n6    cat    M      10   True\n       size   weight  adult\nanimal                     \ncat       L  23.8125   True\ndog       L  21.7500   True\nfish      L  15.0000   True\n"
     ]
    }
   ],
   "source": [
    "# apply to different items in a group\n",
    "def GrowUp(x):\n",
    "    \"\"\"\n",
    "    应用 一组group的df\n",
    "    :param x: 一组group的df\n",
    "    :return: \n",
    "    \"\"\"\n",
    "    avg_weight = sum(x[x['size']=='S']['weight']*1.5)\n",
    "    avg_weight += sum(x[x['size']=='M']['weight']*1.25)\n",
    "    avg_weight += sum(x[x['size']=='L']['weight'])\n",
    "    avg_weight /= len(x)   # 除以 数量\n",
    "    return pd.Series(['L',avg_weight,True],index=['size','weight','adult'])\n",
    "\n",
    "# using get_group\n",
    "gb = df.groupby(['animal'])\n",
    "print(gb.get_group('cat'))\n",
    "print(gb.apply(GrowUp))\n"
   ]
  },
  {
   "cell_type": "code",
   "execution_count": 167,
   "metadata": {},
   "outputs": [
    {
     "name": "stdout",
     "output_type": "stream",
     "text": [
      "Index(['animal', 'size', 'weight', 'adult'], dtype='object')\n  ANIMAL SIZE  WEIGHT  ADULT\n0    cat    L      60  False\n1    dog    S      20  False\n2   fish    M      12  False\n3    cat    M      11  False\n4    dog    S       9  False\n5    cat    L       9   True\n6    cat    M      10   True\n"
     ]
    }
   ],
   "source": [
    "# 将 column 转为大写\n",
    "cols = df.columns\n",
    "upper_cols = [ col.upper() for col in cols]\n",
    "df[upper_cols] = df[cols]\n",
    "\n",
    "df.drop(columns=cols,inplace=True)\n",
    "# print(df.columns, cols,df, sep='\\n')\n",
    "print(cols, df,sep='\\n')\n"
   ]
  },
  {
   "cell_type": "code",
   "execution_count": 164,
   "metadata": {},
   "outputs": [],
   "source": [
    "df = pd.DataFrame({\n",
    "    'animal': 'cat dog fish cat dog cat cat'.split(),\n",
    "    'size': list('LSMMSLM'),\n",
    "    'weight':[60,20,12,11,9,9,10],\n",
    "    'adult':[False]*5 + [True]*2\n",
    "})"
   ]
  },
  {
   "cell_type": "code",
   "execution_count": 175,
   "metadata": {},
   "outputs": [
    {
     "name": "stdout",
     "output_type": "stream",
     "text": [
      "0    1.010000\n1    1.030200\n2    1.061106\n3    1.103550\n4    1.158728\n5    1.228251\n6    1.314229\n7    1.419367\n8    1.547110\n9    1.701821\ndtype: float64\n"
     ]
    }
   ],
   "source": [
    "import functools\n",
    "\n",
    "s = pd.Series([i/100.0 for i in range(1,11)])\n",
    "\n",
    "def cum_ret(x,y):\n",
    "    return x* (1+y)\n",
    "\n",
    "def red(x):\n",
    "    return functools.reduce(cum_ret,x,1.0)\n",
    "\n",
    "\n",
    "ret = s.expanding().apply(red,raw=True)\n",
    "print(ret)"
   ]
  },
  {
   "cell_type": "code",
   "execution_count": 181,
   "metadata": {},
   "outputs": [
    {
     "name": "stdout",
     "output_type": "stream",
     "text": [
      "     B\n0  1.0\n1 -1.0\n2  1.5\n3  1.5\n"
     ]
    }
   ],
   "source": [
    "df = pd.DataFrame({\"A\": [1, 1, 2, 2], \"B\": [1, -1, 1, 2]})\n",
    "# print(df)\n",
    "def replace(g):\n",
    "    mask = g < 0\n",
    "    return g.where(mask, g[~mask].mean())\n",
    "\n",
    "ret = df.groupby('A').transform(replace)\n",
    "print(ret)\n",
    "# print(df.groupby('A').get_group(2))\n",
    "\n",
    "\n",
    "\n",
    "\n",
    "\n",
    "\n",
    "\n",
    "\n",
    "\n",
    "\n",
    "\n",
    "\n",
    "\n",
    "\n",
    "\n",
    "\n",
    "\n",
    "\n"
   ]
  },
  {
   "cell_type": "code",
   "execution_count": null,
   "metadata": {},
   "outputs": [],
   "source": []
  },
  {
   "cell_type": "code",
   "execution_count": null,
   "metadata": {},
   "outputs": [],
   "source": []
  },
  {
   "cell_type": "code",
   "execution_count": null,
   "metadata": {},
   "outputs": [],
   "source": []
  },
  {
   "cell_type": "code",
   "execution_count": null,
   "metadata": {},
   "outputs": [],
   "source": []
  },
  {
   "cell_type": "code",
   "execution_count": null,
   "metadata": {},
   "outputs": [],
   "source": []
  },
  {
   "cell_type": "code",
   "execution_count": null,
   "metadata": {},
   "outputs": [],
   "source": []
  },
  {
   "cell_type": "code",
   "execution_count": null,
   "metadata": {},
   "outputs": [],
   "source": []
  },
  {
   "cell_type": "code",
   "execution_count": null,
   "metadata": {},
   "outputs": [],
   "source": []
  },
  {
   "cell_type": "code",
   "execution_count": null,
   "metadata": {},
   "outputs": [],
   "source": []
  },
  {
   "cell_type": "code",
   "execution_count": null,
   "metadata": {},
   "outputs": [],
   "source": []
  }
 ],
 "metadata": {
  "kernelspec": {
   "display_name": "Python 2",
   "language": "python",
   "name": "python2"
  },
  "language_info": {
   "codemirror_mode": {
    "name": "ipython",
    "version": 2
   },
   "file_extension": ".py",
   "mimetype": "text/x-python",
   "name": "python",
   "nbconvert_exporter": "python",
   "pygments_lexer": "ipython2",
   "version": "2.7.6"
  }
 },
 "nbformat": 4,
 "nbformat_minor": 0
}
